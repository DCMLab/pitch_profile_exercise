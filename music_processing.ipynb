{
 "cells": [
  {
   "cell_type": "markdown",
   "metadata": {},
   "source": [
    "# Fundamentals of Music Processing"
   ]
  },
  {
   "cell_type": "code",
   "execution_count": 1,
   "metadata": {},
   "outputs": [],
   "source": [
    "import scipy\n",
    "import scipy.signal as signal\n",
    "import numpy as np\n",
    "import matplotlib.pyplot as plt\n",
    "from IPython.display import Audio, display\n",
    "import librosa"
   ]
  },
  {
   "cell_type": "markdown",
   "metadata": {},
   "source": [
    "## Synthesize a chord\n",
    "### Create a basic sine wave\n",
    "\n",
    "Create a 5 seconds long sine wave sample representing the pitch A1. For this, review the concept of the sample rate `sr` and reflect on how it relates to the frequency and the length of the generated sample. Note that the word sample can be used for the generated WAV form as well as for its individual data points."
   ]
  },
  {
   "cell_type": "code",
   "execution_count": null,
   "metadata": {},
   "outputs": [],
   "source": [
    "# Function to generate a sine wave\n",
    "def generate_sine_wave(N, sr, freq):\n",
    "    \"\"\"\n",
    "    Generate a sine wave with the given number of samples, sample-rate, and frequency.\n",
    "    \n",
    "    Parameters\n",
    "    ----------\n",
    "    N : int\n",
    "         The number of samples to return.\n",
    "         \n",
    "    sr : int\n",
    "         The sample-rate for the returned signal, in Hz.\n",
    "         \n",
    "    freq : float\n",
    "        The frequency for the returned signal, in Hz.\n",
    "        \n",
    "    Returns\n",
    "    -------\n",
    "    x : np.array(float)\n",
    "        N samples of a sine wave with frequency freq, sampled at sr Hz.\n",
    "    \"\"\"\n",
    "    return np.sin(np.arange(N) * 2 * np.pi * freq / sr)\n",
    "\n",
    "\n",
    "# Sample rate of signal (Hz)\n",
    "sr = \n",
    "\n",
    "# Number of samples in signal\n",
    "N = \n",
    "\n",
    "# Frequency of sine wave (Hz)\n",
    "freq = \n",
    "\n",
    "# Generate the sine wave\n",
    "A1 = generate_sine_wave(N, sr, freq)\n",
    "\n",
    "# View signal\n",
    "def WAV(arr, N=2 ** 10, sr=sr, norm=False):\n",
    "    plt.plot(arr[:N])\n",
    "    display(Audio(arr, rate=sr, normalize=norm))\n",
    "\n",
    "WAV(A1)"
   ]
  },
  {
   "cell_type": "markdown",
   "metadata": {},
   "source": [
    "### Decreasing the amplitude\n",
    "The membrane of your speaker/headphones is oscillating between the max values -1 and 1. What do you expect when you decrease the amplitude? Decrease it by 75%, 50%, and 25% and listen to the outcomes. Do they meet your expectation?"
   ]
  },
  {
   "cell_type": "code",
   "execution_count": null,
   "metadata": {
    "jupyter": {
     "source_hidden": true
    }
   },
   "outputs": [],
   "source": []
  },
  {
   "cell_type": "markdown",
   "metadata": {},
   "source": [
    "### Generate the chord tones and add them together\n",
    "\n",
    "Let's take the generated sine `A1` as chord root and create three more samples of the same length, namely the 3rd, 5th and 7th harmonic. Display them and listen to them."
   ]
  },
  {
   "cell_type": "code",
   "execution_count": null,
   "metadata": {},
   "outputs": [],
   "source": [
    "third = \n",
    "WAV(third)"
   ]
  },
  {
   "cell_type": "code",
   "execution_count": null,
   "metadata": {},
   "outputs": [],
   "source": [
    "fifth = \n",
    "WAV(fifth)"
   ]
  },
  {
   "cell_type": "code",
   "execution_count": null,
   "metadata": {},
   "outputs": [],
   "source": [
    "seventh = \n",
    "WAV(seventh)"
   ]
  },
  {
   "cell_type": "markdown",
   "metadata": {},
   "source": [
    "### Add them together\n",
    "\n",
    "Create two samples, one with all four sines and one without the seventh. Listen to them. How can you explain the result?"
   ]
  },
  {
   "cell_type": "code",
   "execution_count": null,
   "metadata": {},
   "outputs": [],
   "source": [
    "three = A1 + third + fifth\n",
    "WAV(three, norm=True)"
   ]
  },
  {
   "cell_type": "code",
   "execution_count": null,
   "metadata": {},
   "outputs": [],
   "source": [
    "four = three + seventh\n",
    "WAV(four, norm=True)"
   ]
  },
  {
   "cell_type": "markdown",
   "metadata": {},
   "source": [
    "### Produce sine mixes\n",
    "\n",
    "Write a function that takes a frequency, a sample rate, a sample length (note the two different meanings of sample!) and a dictionary with amplitudinal weights of the harmonics you want the sample to contain. Use the function to produce a new sample with the same frequencies as before but where each of them is a fundamental that has its own harmonics. Try out different harmonic spectra over the three/four fundamentals by choosing and weighing different combinations."
   ]
  },
  {
   "cell_type": "code",
   "execution_count": null,
   "metadata": {},
   "outputs": [],
   "source": []
  },
  {
   "cell_type": "markdown",
   "metadata": {},
   "source": [
    "## Short-time Fourier Transform (STFT)"
   ]
  },
  {
   "cell_type": "code",
   "execution_count": 9,
   "metadata": {
    "scrolled": true
   },
   "outputs": [],
   "source": [
    "def plot_stft(X, f=None, t=None, f_min=None, f_max=None, t_min=None, t_max=None, log_freq=False, plot_phase=False):\n",
    "    \"\"\"\n",
    "    Plot the phase and magnitude of a given stft result.\n",
    "    \n",
    "    Parameters\n",
    "    ----------\n",
    "    X : np.ndarray\n",
    "        The stft result, complex values.\n",
    "        \n",
    "    f : np.array\n",
    "        A list of the frequencies (Hz) corresponding to the first axis of the stft result,\n",
    "        if known.\n",
    "        \n",
    "    t : np.array\n",
    "        A list of the times (s) corresponding to the second axis of the stft result,\n",
    "        if known.\n",
    "        \n",
    "    f_min : float\n",
    "        The minimum frequency to be displayed in the plot. This will be clipped to min(f).\n",
    "        \n",
    "    f_max : float\n",
    "        The maximum frequency to be displayed in the plot. This will be clipped to max(f).\n",
    "        \n",
    "    t_min : float\n",
    "        The minimum time to be displayed in the plot. This will be clipped to min(t).\n",
    "        \n",
    "    t_max : float\n",
    "        The maximum time to be displayed in the plot. This will be clipped to max(t).\n",
    "        \n",
    "    log_freq : boolean\n",
    "        Set the frequence axis to log scale.\n",
    "        \n",
    "    plot_phase : boolean\n",
    "        Plot the phase of the spectrogram.\n",
    "    \"\"\"\n",
    "    ###################\n",
    "    # Parse input\n",
    "    ###################\n",
    "    \n",
    "    # Set up f and t as simple ranges if not given\n",
    "    f_given = not f is None\n",
    "    t_given = not t is None\n",
    "    if f is None:\n",
    "        f = np.arange(X.shape[0] + 1) - 0.5\n",
    "    else:\n",
    "        f = np.append([f[0] - (f[1] - f[0])], f) + ((f[1] - f[0]) / 2)\n",
    "    if t is None:\n",
    "        t = np.arange(X.shape[1] + 1) - 0.5\n",
    "    else:\n",
    "        t = np.append([t[0] - (t[1] - t[0])], t) + ((t[1] - t[0]) / 2)\n",
    "    \n",
    "    \n",
    "    ##################\n",
    "    # Get magnitude and phase of result\n",
    "    ##################\n",
    "    \n",
    "    magnitude = np.abs(X)\n",
    "    phase = np.angle(X)\n",
    "    \n",
    "    \n",
    "    ###################\n",
    "    # PLOTTING\n",
    "    ###################\n",
    "    \n",
    "    # Create figure\n",
    "    fig, axs = plt.subplots(1, 2 if plot_phase else 1, figsize=(20,5))\n",
    "    \n",
    "    # Plot magnitude\n",
    "    mag_axis = axs[0] if plot_phase else axs\n",
    "    mag_axis.pcolormesh(t, f, magnitude)\n",
    "    mag_axis.set_title(\"Magnitude\")\n",
    "    mag_axis.set_xlabel(f\"time ({'s' if t_given else 'frame'})\")\n",
    "    mag_axis.set_ylabel(f\"frequency {'(Hz)' if f_given else 'bin'}\")\n",
    "    mag_axis.set_ylim(f_min, f_max)\n",
    "    mag_axis.set_xlim(t_min, t_max)\n",
    "    if log_freq:\n",
    "        mag_axis.set_yscale('log')\n",
    "    \n",
    "    if plot_phase:\n",
    "        # Plot phase\n",
    "        axs[1].pcolormesh(t, f, phase)\n",
    "        axs[1].set_title(\"Phase\")\n",
    "        axs[1].set_xlabel(f\"time ({'s' if t_given else 'frame'})\")\n",
    "        axs[1].set_ylabel(f\"frequency {'(Hz)' if f_given else 'bin'}\")\n",
    "        axs[1].set_ylim(f_min, f_max)\n",
    "        axs[1].set_xlim(t_min, t_max)\n",
    "        if log_freq:\n",
    "            axs[1].set_yscale('log')\n",
    "    \n",
    "    #fig.show()"
   ]
  },
  {
   "cell_type": "markdown",
   "metadata": {},
   "source": [
    "### Show spectograms\n",
    "\n",
    "Turn the example code below into a function and find good parameters for the STFT and for plotting the samples that you generated above: `three`, `four` and the different versions of chords you constructed from three or four fundamentals with their own harmonics."
   ]
  },
  {
   "cell_type": "code",
   "execution_count": 17,
   "metadata": {},
   "outputs": [
    {
     "data": {
      "image/png": "[encoded data removed]",
      "text/plain": [
       "<Figure size 1440x360 with 1 Axes>"
      ]
     },
     "metadata": {
      "needs_background": "light"
     },
     "output_type": "display_data"
    }
   ],
   "source": [
    "f, t, X = signal.stft(A1,                  # Input signal\n",
    "                      fs=sr,              # Sample rate (Frequency of Sampling)\n",
    "                      window='hann',      # Window shape\n",
    "                      nperseg=256,        # Window length\n",
    "                      noverlap=None,      # How much overlap per window (default: nperseg / 2)\n",
    "                      nfft=None)          # Length of fft (after 0-padding, default: nperseg)\n",
    "\n",
    "plot_stft(X, f=f, t=t, f_max=None, log_freq=False)"
   ]
  },
  {
   "cell_type": "markdown",
   "metadata": {},
   "source": [
    "## Constant-Q transform\n",
    "\n",
    "Here, you group frequencies into (usually 12) bins in order to detect pitches. Repeat the above task of finding the right parameters displaying the samples you have created."
   ]
  },
  {
   "cell_type": "code",
   "execution_count": null,
   "metadata": {},
   "outputs": [],
   "source": [
    "X = librosa.core.cqt(A1,\n",
    "                     sr=sr,\n",
    "                     hop_length=128,\n",
    "                     bins_per_octave=12,\n",
    "                     n_bins=90,\n",
    "                     fmin=27.5)\n",
    "plot_stft(X, t=, f_max=None)"
   ]
  },
  {
   "cell_type": "markdown",
   "metadata": {},
   "source": [
    "## Analysing a sample\n",
    "Here, we are loading a WAV file. **Don't listen to it.** Use your functions for the two above visualisation techniques to find out what it contains. Listen only fter looking at your spectograms to hear whether your guess was correct."
   ]
  },
  {
   "cell_type": "code",
   "execution_count": 12,
   "metadata": {},
   "outputs": [
    {
     "data": {
      "image/png": "[encoded data removed]",
      "text/plain": [
       "<Figure size 432x288 with 1 Axes>"
      ]
     },
     "metadata": {
      "needs_background": "light"
     },
     "output_type": "display_data"
    }
   ],
   "source": [
    "sr, sample = scipy.io.wavfile.read('audio/sample.wav')\n",
    "sample = sample / 32768 # Read as 16-bit integers, rather than floats\n",
    "plt.plot(sample);"
   ]
  }
 ],
 "metadata": {
  "kernelspec": {
   "display_name": "Python 3",
   "language": "python",
   "name": "python3"
  },
  "language_info": {
   "codemirror_mode": {
    "name": "ipython",
    "version": 3
   },
   "file_extension": ".py",
   "mimetype": "text/x-python",
   "name": "python",
   "nbconvert_exporter": "python",
   "pygments_lexer": "ipython3",
   "version": "3.7.6"
  }
 },
 "nbformat": 4,
 "nbformat_minor": 4
}
