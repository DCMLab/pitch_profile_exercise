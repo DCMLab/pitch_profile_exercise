{
 "cells": [
  {
   "cell_type": "markdown",
   "metadata": {},
   "source": [
    "# Pitch Profiles\n",
    "\n",
    "In this exercise you will explore pitch profiles and their use for key estimation\n",
    "in an hands-on approach, i.e. by *trying it yourself!!!*\n",
    "\n",
    "As basic tools we will use the dataframe library [`pandas`](https://pandas.pydata.org/)\n",
    "and the plotting library [`seaborn`](https://seaborn.pydata.org/index.html).\n",
    "If you are not familiar with these libraries, have a look at the [`pandas tutorial`](https://pandas.pydata.org/pandas-docs/stable/getting_started/10min.html) and the [`seaborn tutorial`](https://seaborn.pydata.org/tutorial/relational.html) if you get stuck.\n",
    "You can also use other tools that you are more familiar with.\n",
    "\n",
    "If you can see this notebook, you probably already managed to install python and jupyter (or you found discovered the notebook preview feature on github, but that's kind of cheating).\n",
    "The next step will be to verify that you have installed `pandas` and `seaborn` and that you are able to run the code for the...\n",
    "\n",
    "## Basic Setup"
   ]
  },
  {
   "cell_type": "code",
   "execution_count": null,
   "metadata": {},
   "outputs": [],
   "source": [
    "# import pandas and seaborn\n",
    "import pandas as pd\n",
    "import seaborn as sns"
   ]
  },
  {
   "cell_type": "code",
   "execution_count": null,
   "metadata": {},
   "outputs": [],
   "source": [
    "# load a pitch profile templates as csv\n",
    "templates_wide = pd.read_csv(\"templates.csv\")\n",
    "templates_wide # writing just a variable at the end of a cell will print the content of the variable"
   ]
  },
  {
   "cell_type": "code",
   "execution_count": null,
   "metadata": {},
   "outputs": [],
   "source": [
    "# melt the wide-format data frame into a long-format data frame\n",
    "templates = pd.melt(templates_wide, ['source','mode'], var_name='pc', value_name='prob')\n",
    "templates.head() # only shows the first few lines"
   ]
  },
  {
   "cell_type": "code",
   "execution_count": null,
   "metadata": {
    "scrolled": true
   },
   "outputs": [],
   "source": [
    "# plot the krumhansl major key profile\n",
    "kh_major = templates[(templates[\"source\"]==\"krumhansl\") & (templates[\"mode\"]==\"major\")]\n",
    "sns.barplot(x='pc', y='prob', data=kh_major, color='gray')"
   ]
  },
  {
   "cell_type": "markdown",
   "metadata": {},
   "source": [
    "## Plotting Pitch-Class Distributions\n",
    "\n",
    "### load data\n",
    "\n",
    "You can find the pitch-class distributions for a large corpus of data in the file `pitch_class_distributions.csv`, with a layout similar to the one for the templates.\n",
    "Try to load this data file and plot the pitch-class distribution of a single piece.\n",
    "Feel free to add new cells below the next cell."
   ]
  },
  {
   "cell_type": "code",
   "execution_count": null,
   "metadata": {},
   "outputs": [],
   "source": [
    "# code here..."
   ]
  },
  {
   "cell_type": "markdown",
   "metadata": {},
   "source": [
    "### compare distributions and profiles\n",
    "\n",
    "Plot several different pitch profiles and pitch-class distributions.\n",
    "What do you observe? Are there systematic similarities or differences across modes or between profiles and distributions?\n",
    "Where do you think they come from? Use a `markdown` cell to write down a few notes."
   ]
  },
  {
   "cell_type": "code",
   "execution_count": null,
   "metadata": {},
   "outputs": [],
   "source": [
    "# code here..."
   ]
  },
  {
   "cell_type": "markdown",
   "metadata": {},
   "source": [
    "#### [Notes]\n",
    "\n",
    "notes here... (double-click to edit)"
   ]
  },
  {
   "cell_type": "markdown",
   "metadata": {},
   "source": [
    "### plot in a different space\n",
    "\n",
    "Ordering pitch classes chromatically (0-11) might not be the best choice for detecting patterns.\n",
    "In a previous tutorial we have seen how the diatonic scales can be generated from fifth.\n",
    "Try to plot major and minor profiles with pitches ordered in fifth (7 semitones).\n",
    "What do you observe?"
   ]
  },
  {
   "cell_type": "code",
   "execution_count": null,
   "metadata": {},
   "outputs": [],
   "source": [
    "# code here..."
   ]
  },
  {
   "cell_type": "markdown",
   "metadata": {},
   "source": [
    "#### [Notes]\n",
    "\n",
    "notes here..."
   ]
  },
  {
   "cell_type": "markdown",
   "metadata": {},
   "source": [
    "## Key Inference\n",
    "\n",
    "### simple key inference\n",
    "\n",
    "Pitch profiles can be used to infer the key of a piece. Try to implement a simple key finding algorithm\n",
    "that simple compares the pitch-class distribution of a piece with two given major and minor key templates.\n",
    "Use what you have learned in the lecture."
   ]
  },
  {
   "cell_type": "code",
   "execution_count": null,
   "metadata": {},
   "outputs": [],
   "source": [
    "# code here..."
   ]
  },
  {
   "cell_type": "markdown",
   "metadata": {},
   "source": [
    "### evaluation\n",
    "\n",
    "Evaluate you key inference algorithm using the labels provided in the pitch-distribution dataset.\n",
    "Also compare different key templates and matching strategies and plot the results."
   ]
  },
  {
   "cell_type": "code",
   "execution_count": null,
   "metadata": {},
   "outputs": [],
   "source": [
    "# code here..."
   ]
  },
  {
   "cell_type": "markdown",
   "metadata": {},
   "source": [
    "#### [Notes]\n",
    "\n",
    "notes here..."
   ]
  },
  {
   "cell_type": "markdown",
   "metadata": {},
   "source": [
    "### keys over time\n",
    "\n",
    "The pitch-distribution dataset contains a year for every piece.\n",
    "Try to find out how well you key-finding algorithm works for different regions of time.\n",
    "Again, plot and interpret your results."
   ]
  },
  {
   "cell_type": "code",
   "execution_count": null,
   "metadata": {},
   "outputs": [],
   "source": [
    "# code here..."
   ]
  },
  {
   "cell_type": "markdown",
   "metadata": {},
   "source": [
    "#### [Notes]\n",
    "\n",
    "notes here..."
   ]
  }
 ],
 "metadata": {
  "kernelspec": {
   "display_name": "Python 3",
   "language": "python",
   "name": "python3"
  },
  "language_info": {
   "codemirror_mode": {
    "name": "ipython",
    "version": 3
   },
   "file_extension": ".py",
   "mimetype": "text/x-python",
   "name": "python",
   "nbconvert_exporter": "python",
   "pygments_lexer": "ipython3",
   "version": "3.7.2"
  }
 },
 "nbformat": 4,
 "nbformat_minor": 2
}
