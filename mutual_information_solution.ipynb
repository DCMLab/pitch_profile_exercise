{
 "cells": [
  {
   "cell_type": "code",
   "execution_count": 1,
   "metadata": {},
   "outputs": [],
   "source": [
    "import pandas as pd\n",
    "import numpy as np\n",
    "import scipy\n",
    "\n",
    "import matplotlib.pyplot as plt\n",
    "import seaborn as sns\n",
    "\n",
    "from collections import Counter\n",
    "import random\n",
    "\n",
    "import sklearn as sk"
   ]
  },
  {
   "cell_type": "markdown",
   "metadata": {},
   "source": [
    "# Preparation\n",
    "\n",
    "## Load Data"
   ]
  },
  {
   "cell_type": "code",
   "execution_count": 2,
   "metadata": {},
   "outputs": [
    {
     "data": {
      "text/html": [
       "<div>\n",
       "<style scoped>\n",
       "    .dataframe tbody tr th:only-of-type {\n",
       "        vertical-align: middle;\n",
       "    }\n",
       "\n",
       "    .dataframe tbody tr th {\n",
       "        vertical-align: top;\n",
       "    }\n",
       "\n",
       "    .dataframe thead th {\n",
       "        text-align: right;\n",
       "    }\n",
       "</style>\n",
       "<table border=\"1\" class=\"dataframe\">\n",
       "  <thead>\n",
       "    <tr style=\"text-align: right;\">\n",
       "      <th></th>\n",
       "      <th>id</th>\n",
       "      <th>chord_id</th>\n",
       "      <th>mc</th>\n",
       "      <th>mn</th>\n",
       "      <th>onset</th>\n",
       "      <th>chords</th>\n",
       "      <th>chord</th>\n",
       "      <th>key</th>\n",
       "      <th>pedal</th>\n",
       "      <th>numeral</th>\n",
       "      <th>...</th>\n",
       "      <th>relativeroot</th>\n",
       "      <th>phraseend</th>\n",
       "      <th>globalkey</th>\n",
       "      <th>bass_step</th>\n",
       "      <th>mc_next</th>\n",
       "      <th>onset_next</th>\n",
       "      <th>next_chord_id</th>\n",
       "      <th>chord_length</th>\n",
       "      <th>globalminor</th>\n",
       "      <th>localminor</th>\n",
       "    </tr>\n",
       "  </thead>\n",
       "  <tbody>\n",
       "    <tr>\n",
       "      <th>0</th>\n",
       "      <td>0</td>\n",
       "      <td>0</td>\n",
       "      <td>0</td>\n",
       "      <td>1</td>\n",
       "      <td>0</td>\n",
       "      <td>.A.I</td>\n",
       "      <td>I</td>\n",
       "      <td>I</td>\n",
       "      <td>NaN</td>\n",
       "      <td>I</td>\n",
       "      <td>...</td>\n",
       "      <td>NaN</td>\n",
       "      <td>NaN</td>\n",
       "      <td>A</td>\n",
       "      <td>1</td>\n",
       "      <td>0</td>\n",
       "      <td>3/8</td>\n",
       "      <td>1.0</td>\n",
       "      <td>3/8</td>\n",
       "      <td>False</td>\n",
       "      <td>False</td>\n",
       "    </tr>\n",
       "    <tr>\n",
       "      <th>1</th>\n",
       "      <td>0</td>\n",
       "      <td>1</td>\n",
       "      <td>0</td>\n",
       "      <td>1</td>\n",
       "      <td>3/8</td>\n",
       "      <td>V7</td>\n",
       "      <td>V7</td>\n",
       "      <td>I</td>\n",
       "      <td>NaN</td>\n",
       "      <td>V</td>\n",
       "      <td>...</td>\n",
       "      <td>NaN</td>\n",
       "      <td>NaN</td>\n",
       "      <td>A</td>\n",
       "      <td>5</td>\n",
       "      <td>0</td>\n",
       "      <td>3/4</td>\n",
       "      <td>2.0</td>\n",
       "      <td>3/8</td>\n",
       "      <td>False</td>\n",
       "      <td>False</td>\n",
       "    </tr>\n",
       "    <tr>\n",
       "      <th>2</th>\n",
       "      <td>0</td>\n",
       "      <td>2</td>\n",
       "      <td>0</td>\n",
       "      <td>1</td>\n",
       "      <td>3/4</td>\n",
       "      <td>I</td>\n",
       "      <td>I</td>\n",
       "      <td>I</td>\n",
       "      <td>NaN</td>\n",
       "      <td>I</td>\n",
       "      <td>...</td>\n",
       "      <td>NaN</td>\n",
       "      <td>NaN</td>\n",
       "      <td>A</td>\n",
       "      <td>1</td>\n",
       "      <td>0</td>\n",
       "      <td>9/8</td>\n",
       "      <td>3.0</td>\n",
       "      <td>3/8</td>\n",
       "      <td>False</td>\n",
       "      <td>False</td>\n",
       "    </tr>\n",
       "    <tr>\n",
       "      <th>3</th>\n",
       "      <td>0</td>\n",
       "      <td>3</td>\n",
       "      <td>0</td>\n",
       "      <td>1</td>\n",
       "      <td>9/8</td>\n",
       "      <td>V7</td>\n",
       "      <td>V7</td>\n",
       "      <td>I</td>\n",
       "      <td>NaN</td>\n",
       "      <td>V</td>\n",
       "      <td>...</td>\n",
       "      <td>NaN</td>\n",
       "      <td>NaN</td>\n",
       "      <td>A</td>\n",
       "      <td>5</td>\n",
       "      <td>1</td>\n",
       "      <td>0</td>\n",
       "      <td>4.0</td>\n",
       "      <td>3/8</td>\n",
       "      <td>False</td>\n",
       "      <td>False</td>\n",
       "    </tr>\n",
       "    <tr>\n",
       "      <th>4</th>\n",
       "      <td>0</td>\n",
       "      <td>4</td>\n",
       "      <td>1</td>\n",
       "      <td>2</td>\n",
       "      <td>0</td>\n",
       "      <td>I</td>\n",
       "      <td>I</td>\n",
       "      <td>I</td>\n",
       "      <td>NaN</td>\n",
       "      <td>I</td>\n",
       "      <td>...</td>\n",
       "      <td>NaN</td>\n",
       "      <td>NaN</td>\n",
       "      <td>A</td>\n",
       "      <td>1</td>\n",
       "      <td>1</td>\n",
       "      <td>3/8</td>\n",
       "      <td>5.0</td>\n",
       "      <td>3/8</td>\n",
       "      <td>False</td>\n",
       "      <td>False</td>\n",
       "    </tr>\n",
       "    <tr>\n",
       "      <th>...</th>\n",
       "      <td>...</td>\n",
       "      <td>...</td>\n",
       "      <td>...</td>\n",
       "      <td>...</td>\n",
       "      <td>...</td>\n",
       "      <td>...</td>\n",
       "      <td>...</td>\n",
       "      <td>...</td>\n",
       "      <td>...</td>\n",
       "      <td>...</td>\n",
       "      <td>...</td>\n",
       "      <td>...</td>\n",
       "      <td>...</td>\n",
       "      <td>...</td>\n",
       "      <td>...</td>\n",
       "      <td>...</td>\n",
       "      <td>...</td>\n",
       "      <td>...</td>\n",
       "      <td>...</td>\n",
       "      <td>...</td>\n",
       "      <td>...</td>\n",
       "    </tr>\n",
       "    <tr>\n",
       "      <th>142506</th>\n",
       "      <td>696</td>\n",
       "      <td>160058</td>\n",
       "      <td>280</td>\n",
       "      <td>281</td>\n",
       "      <td>1/2</td>\n",
       "      <td>I</td>\n",
       "      <td>I</td>\n",
       "      <td>I</td>\n",
       "      <td>NaN</td>\n",
       "      <td>I</td>\n",
       "      <td>...</td>\n",
       "      <td>NaN</td>\n",
       "      <td>NaN</td>\n",
       "      <td>f</td>\n",
       "      <td>1</td>\n",
       "      <td>280</td>\n",
       "      <td>3/4</td>\n",
       "      <td>160059.0</td>\n",
       "      <td>1/4</td>\n",
       "      <td>True</td>\n",
       "      <td>False</td>\n",
       "    </tr>\n",
       "    <tr>\n",
       "      <th>142507</th>\n",
       "      <td>696</td>\n",
       "      <td>160059</td>\n",
       "      <td>280</td>\n",
       "      <td>281</td>\n",
       "      <td>3/4</td>\n",
       "      <td>I6</td>\n",
       "      <td>I6</td>\n",
       "      <td>I</td>\n",
       "      <td>NaN</td>\n",
       "      <td>I</td>\n",
       "      <td>...</td>\n",
       "      <td>NaN</td>\n",
       "      <td>NaN</td>\n",
       "      <td>f</td>\n",
       "      <td>3</td>\n",
       "      <td>281</td>\n",
       "      <td>0</td>\n",
       "      <td>160060.0</td>\n",
       "      <td>1/4</td>\n",
       "      <td>True</td>\n",
       "      <td>False</td>\n",
       "    </tr>\n",
       "    <tr>\n",
       "      <th>142508</th>\n",
       "      <td>696</td>\n",
       "      <td>160060</td>\n",
       "      <td>281</td>\n",
       "      <td>282</td>\n",
       "      <td>0</td>\n",
       "      <td>V(64)</td>\n",
       "      <td>V(64)</td>\n",
       "      <td>I</td>\n",
       "      <td>NaN</td>\n",
       "      <td>V</td>\n",
       "      <td>...</td>\n",
       "      <td>NaN</td>\n",
       "      <td>NaN</td>\n",
       "      <td>f</td>\n",
       "      <td>5</td>\n",
       "      <td>281</td>\n",
       "      <td>1/2</td>\n",
       "      <td>160061.0</td>\n",
       "      <td>1/2</td>\n",
       "      <td>True</td>\n",
       "      <td>False</td>\n",
       "    </tr>\n",
       "    <tr>\n",
       "      <th>142509</th>\n",
       "      <td>696</td>\n",
       "      <td>160061</td>\n",
       "      <td>281</td>\n",
       "      <td>282</td>\n",
       "      <td>1/2</td>\n",
       "      <td>V7</td>\n",
       "      <td>V7</td>\n",
       "      <td>I</td>\n",
       "      <td>NaN</td>\n",
       "      <td>V</td>\n",
       "      <td>...</td>\n",
       "      <td>NaN</td>\n",
       "      <td>NaN</td>\n",
       "      <td>f</td>\n",
       "      <td>5</td>\n",
       "      <td>282</td>\n",
       "      <td>0</td>\n",
       "      <td>160062.0</td>\n",
       "      <td>1/2</td>\n",
       "      <td>True</td>\n",
       "      <td>False</td>\n",
       "    </tr>\n",
       "    <tr>\n",
       "      <th>142510</th>\n",
       "      <td>696</td>\n",
       "      <td>160062</td>\n",
       "      <td>282</td>\n",
       "      <td>283</td>\n",
       "      <td>0</td>\n",
       "      <td>I\\\\</td>\n",
       "      <td>I</td>\n",
       "      <td>I</td>\n",
       "      <td>NaN</td>\n",
       "      <td>I</td>\n",
       "      <td>...</td>\n",
       "      <td>NaN</td>\n",
       "      <td>\\\\</td>\n",
       "      <td>f</td>\n",
       "      <td>1</td>\n",
       "      <td>283</td>\n",
       "      <td>0</td>\n",
       "      <td>NaN</td>\n",
       "      <td>1</td>\n",
       "      <td>True</td>\n",
       "      <td>False</td>\n",
       "    </tr>\n",
       "  </tbody>\n",
       "</table>\n",
       "<p>142511 rows × 23 columns</p>\n",
       "</div>"
      ],
      "text/plain": [
       "         id  chord_id   mc   mn onset chords  chord key pedal numeral  ...  \\\n",
       "0         0         0    0    1     0   .A.I      I   I   NaN       I  ...   \n",
       "1         0         1    0    1   3/8     V7     V7   I   NaN       V  ...   \n",
       "2         0         2    0    1   3/4      I      I   I   NaN       I  ...   \n",
       "3         0         3    0    1   9/8     V7     V7   I   NaN       V  ...   \n",
       "4         0         4    1    2     0      I      I   I   NaN       I  ...   \n",
       "...     ...       ...  ...  ...   ...    ...    ...  ..   ...     ...  ...   \n",
       "142506  696    160058  280  281   1/2      I      I   I   NaN       I  ...   \n",
       "142507  696    160059  280  281   3/4     I6     I6   I   NaN       I  ...   \n",
       "142508  696    160060  281  282     0  V(64)  V(64)   I   NaN       V  ...   \n",
       "142509  696    160061  281  282   1/2     V7     V7   I   NaN       V  ...   \n",
       "142510  696    160062  282  283     0    I\\\\      I   I   NaN       I  ...   \n",
       "\n",
       "       relativeroot  phraseend globalkey bass_step mc_next onset_next  \\\n",
       "0               NaN        NaN         A         1       0        3/8   \n",
       "1               NaN        NaN         A         5       0        3/4   \n",
       "2               NaN        NaN         A         1       0        9/8   \n",
       "3               NaN        NaN         A         5       1          0   \n",
       "4               NaN        NaN         A         1       1        3/8   \n",
       "...             ...        ...       ...       ...     ...        ...   \n",
       "142506          NaN        NaN         f         1     280        3/4   \n",
       "142507          NaN        NaN         f         3     281          0   \n",
       "142508          NaN        NaN         f         5     281        1/2   \n",
       "142509          NaN        NaN         f         5     282          0   \n",
       "142510          NaN         \\\\         f         1     283          0   \n",
       "\n",
       "       next_chord_id  chord_length globalminor  localminor  \n",
       "0                1.0           3/8       False       False  \n",
       "1                2.0           3/8       False       False  \n",
       "2                3.0           3/8       False       False  \n",
       "3                4.0           3/8       False       False  \n",
       "4                5.0           3/8       False       False  \n",
       "...              ...           ...         ...         ...  \n",
       "142506      160059.0           1/4        True       False  \n",
       "142507      160060.0           1/4        True       False  \n",
       "142508      160061.0           1/2        True       False  \n",
       "142509      160062.0           1/2        True       False  \n",
       "142510           NaN             1        True       False  \n",
       "\n",
       "[142511 rows x 23 columns]"
      ]
     },
     "execution_count": 2,
     "metadata": {},
     "output_type": "execute_result"
    }
   ],
   "source": [
    "# read chord data\n",
    "\n",
    "data_chords = pd.read_csv('chord_list.tsv', sep='\\t')\n",
    "\n",
    "data_chords"
   ]
  },
  {
   "cell_type": "code",
   "execution_count": 3,
   "metadata": {},
   "outputs": [
    {
     "data": {
      "text/plain": [
       "array(['I', 'V7', 'I', 'V7', 'I', 'V', 'I', 'I6', 'I', 'V(64)', 'IV',\n",
       "       'I6', 'IV', 'V', 'V64', 'I', 'V6', 'V6(6)', 'V', 'I', 'V(64)',\n",
       "       'IV', 'I6', 'V65/IV', 'V6(6)/IV', 'V/IV', 'IV', 'IV6', 'V64/IV',\n",
       "       'viio/V', 'V6/V', 'V7/V', 'V', 'V64', 'IV/V', 'V6', 'ii65/V',\n",
       "       'V/V', 'V6/V', 'V7/V', 'V(9)', 'V6', 'IVM7/V', 'V(4)/V', 'ii65/V',\n",
       "       'V/V', 'V', 'ii7/V', 'V6', 'IV/V', 'V', 'IV6/V', 'V', 'ii6/V', 'V',\n",
       "       'IV6/V', 'V(64)/V', 'ii65/V', 'V6', 'IV/V', 'V6', 'V7', 'IV6',\n",
       "       'V65', 'I', 'V7/IV', 'IV6/IV', 'V65/IV', 'IV(9)', 'V', 'viio',\n",
       "       'V65/vi', 'vi', 'viio64', 'V7/vi', 'IV', 'V65/V', 'V7', 'V65/vi',\n",
       "       'vi', 'ii%65/vi', 'V(4)/vi', 'V(+4)/vi', 'vi', 'ii%7/vi', 'V/ii',\n",
       "       'ii', 'V7/ii', 'ii6', '#viio6/ii', 'iio/vi', 'V7/ii', 'ii', 'V/ii',\n",
       "       'ii%7/vi', 'V/ii', '#viio64/ii', 'ii6', '#viio6/ii', 'ii', 'ii6',\n",
       "       'VI/ii', 'iv/ii', 'ii', 'V/ii', 'V6/ii', 'ii', 'V65/ii', 'V64/ii',\n",
       "       'ii6', 'V65/V', 'iv/ii', 'iv6/ii', 'V(64)/ii', 'ii%65/ii', 'ii6',\n",
       "       'iv/ii', 'V/ii', '#viio6/ii', 'V6/V', 'V', 'V64/V', 'V2/V', 'V6',\n",
       "       'viio6/V', 'V', 'V6', 'vi7', 'ii', 'V7', 'I', 'vii%7/V', 'V65/V',\n",
       "       'V', 'V(6+4)/V', 'V6', 'V(+64)/V', 'V', 'V6', 'I', 'V65', 'I',\n",
       "       'V(6+4)', 'I6', 'V(+64)', 'I', 'I6', 'IV', 'V65/IV', 'IV',\n",
       "       'V(6+4)/IV', 'IV6', 'V(+64)/IV', 'IV', 'ii7', 'V7', 'V(64)',\n",
       "       'V(4)', 'V', 'V(64)', 'IV', 'viio/IV', 'IVM65/IV', 'viio/IV',\n",
       "       'V7/IV', 'IV(9)', 'IV', 'ii', 'V65', 'V64', 'V', 'I', 'I6',\n",
       "       'IVM65', 'IV6', 'viio', 'I(9)', 'I6', 'viio6/IV', 'V7/IV', 'IVM7',\n",
       "       'V65/V', 'V', 'V7', 'viio6', 'I6', 'V65', 'I', 'viio', 'vi', 'V7',\n",
       "       'vi', 'V65', 'vi6', 'V7', 'viio6', 'I(4)', 'viio', 'V7', 'I(9)',\n",
       "       'I', 'viio/IV', 'IVM7', 'iio6', 'V(b9)', 'V', 'V7', 'V', 'V(64)',\n",
       "       'V7(4)', 'V7', 'I', 'IV', 'I6', 'ii7', 'I', 'IV6', 'I', 'ii6', 'I',\n",
       "       'IV6', 'IV', 'I6', 'IV', 'IV6', 'IV', 'IV6', 'V7(9)', 'IV6',\n",
       "       'IV64', 'I', 'ii7', 'I'], dtype=object)"
      ]
     },
     "execution_count": 3,
     "metadata": {},
     "output_type": "execute_result"
    }
   ],
   "source": [
    "sequences_chords = [np.array(piece[\"chord\"]) for name, piece in data_chords.groupby(\"id\")]\n",
    "sequences_chords[0]"
   ]
  },
  {
   "cell_type": "code",
   "execution_count": 4,
   "metadata": {},
   "outputs": [
    {
     "data": {
      "text/plain": [
       "<matplotlib.axes._subplots.AxesSubplot at 0x7f17f8f38250>"
      ]
     },
     "execution_count": 4,
     "metadata": {},
     "output_type": "execute_result"
    },
    {
     "data": {
      "image/png": "[encoded data removed]",
      "text/plain": [
       "<Figure size 432x288 with 1 Axes>"
      ]
     },
     "metadata": {
      "needs_background": "light"
     },
     "output_type": "display_data"
    }
   ],
   "source": [
    "sns.distplot([len(s) for s in sequences_chords])"
   ]
  },
  {
   "cell_type": "markdown",
   "metadata": {},
   "source": [
    "## Code for Computing Mutual Information Statistics\n",
    "\n",
    "See \"Critical Behaviour in Physics and Probabilistic Formal Languages\" (Lin & Tenmark, 2017), Appendix D,\n",
    "and \"Parallels in the sequential organization of birdsong and human speech\" (Sainburg et al., 2019)."
   ]
  },
  {
   "cell_type": "code",
   "execution_count": 5,
   "metadata": {},
   "outputs": [],
   "source": [
    "# estimate the entropy of a distribution from samples\n",
    "# expects a list or numpy array of samples\n",
    "def est_entropy(samples):\n",
    "    N = len(samples)\n",
    "    counter = Counter(samples)\n",
    "    counts = np.fromiter(Counter(samples).values(), dtype=int)\n",
    "    return np.log2(N) - (sum(counts * scipy.special.psi(counts)) / N)\n",
    "    #return np.log2(N) - ((sum([counts * scipy.special.psi(counts) for (key, counts) in counter.items()])) / N)\n",
    "\n",
    "# estimate the mutual information between two variable from sample pairs\n",
    "# expects an array with two columns\n",
    "def est_mi(pairs):\n",
    "    X = pairs[:,0]\n",
    "    Y = pairs[:,1]\n",
    "    pairs_tup = list(map(tuple,pairs))\n",
    "    sX = est_entropy(X)\n",
    "    sY = est_entropy(Y)\n",
    "    sP = est_entropy(pairs_tup)\n",
    "    return sX + sY - sP\n",
    "\n",
    "def est_mi_corr(pairs, shuffled_pairs):\n",
    "    return est_mi(pairs) - est_mi(shuffled_pairs)"
   ]
  },
  {
   "cell_type": "code",
   "execution_count": 6,
   "metadata": {},
   "outputs": [],
   "source": [
    "def seq_pairs(sequence, distance):\n",
    "    return np.column_stack([sequence[:-distance], sequence[distance:]])\n",
    "\n",
    "def seqs_pairs(sequences, distance):\n",
    "    #print(distance)\n",
    "    return np.concatenate([seq_pairs(seq, distance) for seq in sequences])"
   ]
  },
  {
   "cell_type": "code",
   "execution_count": 7,
   "metadata": {},
   "outputs": [],
   "source": [
    "def show_progress(dist):\n",
    "    print(dist)\n",
    "    return dist\n",
    "\n",
    "def collect_mi(seqs, maxdist=10):\n",
    "    maxdist = min(maxdist+1, max(map(len, seqs)))\n",
    "    shuffled = [np.random.permutation(s) for s in seqs]\n",
    "    values = [(show_progress(dist), est_mi_corr(seqs_pairs(seqs, dist), seqs_pairs(shuffled, dist))) for dist in range(1,maxdist)]\n",
    "    return pd.DataFrame.from_records(values, columns=[\"dist\", \"mi\"])"
   ]
  },
  {
   "cell_type": "markdown",
   "metadata": {},
   "source": [
    "# Exercise 1: Plot Mutual Information\n",
    "\n",
    "In this exercise we want to look at some information theoretic properties of the chord sequences we loaded above.\n",
    "The [mutual information](https://en.wikipedia.org/wiki/Mutual_information) between two random variables $A$ and $B$ measures how much we learn about $B$ by observing $A$ and vice versa.\n",
    "In a chord sequence, for example, we can ask how much knowing the first chord tells us about the third cord.\n",
    "In this case we want to look at pairs of chords with a certain distance, e.g., how much do we learn from a chord about the chord that comes 2, 3, or 4 steps later.\n",
    "With increasing distance, this mutual information is probably going to decrease, but we want to look at how exactly this decay looks like.\n",
    "\n",
    "Compute the mutual information for all chord distances and plot them.\n",
    "Use the function `collect_mi`, which takes a list and an optional maximum distance, and returns a dataframe with the mutual information depending on the distance."
   ]
  },
  {
   "cell_type": "code",
   "execution_count": 8,
   "metadata": {
    "scrolled": true
   },
   "outputs": [
    {
     "name": "stdout",
     "output_type": "stream",
     "text": [
      "1\n",
      "2\n",
      "3\n",
      "4\n",
      "5\n",
      "6\n",
      "7\n",
      "8\n",
      "9\n",
      "10\n"
     ]
    },
    {
     "data": {
      "text/html": [
       "<div>\n",
       "<style scoped>\n",
       "    .dataframe tbody tr th:only-of-type {\n",
       "        vertical-align: middle;\n",
       "    }\n",
       "\n",
       "    .dataframe tbody tr th {\n",
       "        vertical-align: top;\n",
       "    }\n",
       "\n",
       "    .dataframe thead th {\n",
       "        text-align: right;\n",
       "    }\n",
       "</style>\n",
       "<table border=\"1\" class=\"dataframe\">\n",
       "  <thead>\n",
       "    <tr style=\"text-align: right;\">\n",
       "      <th></th>\n",
       "      <th>dist</th>\n",
       "      <th>mi</th>\n",
       "    </tr>\n",
       "  </thead>\n",
       "  <tbody>\n",
       "    <tr>\n",
       "      <th>0</th>\n",
       "      <td>1</td>\n",
       "      <td>0.929281</td>\n",
       "    </tr>\n",
       "    <tr>\n",
       "      <th>1</th>\n",
       "      <td>2</td>\n",
       "      <td>0.580855</td>\n",
       "    </tr>\n",
       "    <tr>\n",
       "      <th>2</th>\n",
       "      <td>3</td>\n",
       "      <td>0.370966</td>\n",
       "    </tr>\n",
       "    <tr>\n",
       "      <th>3</th>\n",
       "      <td>4</td>\n",
       "      <td>0.367564</td>\n",
       "    </tr>\n",
       "    <tr>\n",
       "      <th>4</th>\n",
       "      <td>5</td>\n",
       "      <td>0.261518</td>\n",
       "    </tr>\n",
       "    <tr>\n",
       "      <th>5</th>\n",
       "      <td>6</td>\n",
       "      <td>0.260238</td>\n",
       "    </tr>\n",
       "    <tr>\n",
       "      <th>6</th>\n",
       "      <td>7</td>\n",
       "      <td>0.206615</td>\n",
       "    </tr>\n",
       "    <tr>\n",
       "      <th>7</th>\n",
       "      <td>8</td>\n",
       "      <td>0.217825</td>\n",
       "    </tr>\n",
       "    <tr>\n",
       "      <th>8</th>\n",
       "      <td>9</td>\n",
       "      <td>0.173548</td>\n",
       "    </tr>\n",
       "    <tr>\n",
       "      <th>9</th>\n",
       "      <td>10</td>\n",
       "      <td>0.170051</td>\n",
       "    </tr>\n",
       "  </tbody>\n",
       "</table>\n",
       "</div>"
      ],
      "text/plain": [
       "   dist        mi\n",
       "0     1  0.929281\n",
       "1     2  0.580855\n",
       "2     3  0.370966\n",
       "3     4  0.367564\n",
       "4     5  0.261518\n",
       "5     6  0.260238\n",
       "6     7  0.206615\n",
       "7     8  0.217825\n",
       "8     9  0.173548\n",
       "9    10  0.170051"
      ]
     },
     "execution_count": 8,
     "metadata": {},
     "output_type": "execute_result"
    }
   ],
   "source": [
    "mi_chords = collect_mi(sequences_chords)\n",
    "mi_chords"
   ]
  },
  {
   "cell_type": "code",
   "execution_count": 9,
   "metadata": {},
   "outputs": [
    {
     "data": {
      "text/plain": [
       "[None, None]"
      ]
     },
     "execution_count": 9,
     "metadata": {},
     "output_type": "execute_result"
    },
    {
     "data": {
      "image/png": "[encoded data removed]",
      "text/plain": [
       "<Figure size 432x288 with 1 Axes>"
      ]
     },
     "metadata": {
      "needs_background": "light"
     },
     "output_type": "display_data"
    }
   ],
   "source": [
    "plot = sns.lineplot(data=mi_chords, x=\"dist\", y=\"mi\")\n",
    "plot.set(xscale=\"log\", yscale=\"log\")"
   ]
  },
  {
   "cell_type": "markdown",
   "metadata": {},
   "source": [
    "# Exercise 2: Markov Model\n",
    "\n",
    "We now want to see, how well a markov model can model the structure of the chord sequences.\n",
    "For this exercise you can reuse your solution from two weeks ago.\n",
    "\n",
    "1. Use the chord sequences to train a 1st-order markov model.\n",
    "1. Use the model to generate new sequences of length 200.\n",
    "1. Compute and plot the mutual information statistics on these sequences. What do you observe?"
   ]
  },
  {
   "cell_type": "code",
   "execution_count": 10,
   "metadata": {},
   "outputs": [
    {
     "data": {
      "text/plain": [
       "[(('V7', 'I'), 2997),\n",
       " (('V', 'I'), 2246),\n",
       " (('V', 'i'), 1694),\n",
       " (('V(64)', 'V7'), 1326),\n",
       " (('I', 'I6'), 1198),\n",
       " (('V7', 'i'), 1175),\n",
       " (('I', 'V'), 1099),\n",
       " (('V65', 'I'), 1054),\n",
       " (('V2', 'I6'), 1052),\n",
       " (('I', 'V7'), 1010),\n",
       " (('V(4)', 'V'), 925),\n",
       " (('i', 'V'), 894),\n",
       " (('V(64)', 'V'), 873),\n",
       " (('I', 'IV'), 861),\n",
       " (('I6', 'I'), 748),\n",
       " (('I', 'I'), 721),\n",
       " (('V', 'V7'), 720),\n",
       " (('I6', 'IV'), 717),\n",
       " (('I', 'V43'), 645),\n",
       " (('V43', 'I'), 629)]"
      ]
     },
     "execution_count": 10,
     "metadata": {},
     "output_type": "execute_result"
    }
   ],
   "source": [
    "# Compute bigrams\n",
    "\n",
    "bigrams = map(tuple, seqs_pairs(sequences_chords, 1))\n",
    "counts = Counter(bigrams)\n",
    "counts.most_common(20)"
   ]
  },
  {
   "cell_type": "code",
   "execution_count": 11,
   "metadata": {},
   "outputs": [],
   "source": [
    "# Compute transition table\n",
    "\n",
    "transitions = dict()\n",
    "for ((x1, x2), count) in counts.items():\n",
    "    if not (x1 in transitions):\n",
    "        transitions[x1] = dict()\n",
    "    transitions[x1][x2] = count"
   ]
  },
  {
   "cell_type": "code",
   "execution_count": 12,
   "metadata": {},
   "outputs": [],
   "source": [
    "def normalize_dict(dictionary):\n",
    "    S = sum(dictionary.values())\n",
    "    return dict([(k, v/S) for (k, v) in dictionary.items()])"
   ]
  },
  {
   "cell_type": "code",
   "execution_count": 13,
   "metadata": {},
   "outputs": [],
   "source": [
    "transitions_norm = dict([(x1, normalize_dict(counts)) for (x1, counts) in transitions.items()])"
   ]
  },
  {
   "cell_type": "code",
   "execution_count": 14,
   "metadata": {},
   "outputs": [],
   "source": [
    "def next_note(trans, note):\n",
    "    dist = trans[note]\n",
    "    items = dist.items()\n",
    "    candidates = [note for (note, prob) in items]\n",
    "    probs = [prob for (note, prob) in items]\n",
    "    return np.random.choice(candidates, p=probs)"
   ]
  },
  {
   "cell_type": "code",
   "execution_count": 15,
   "metadata": {},
   "outputs": [],
   "source": [
    "def sample_piece(trans, length):\n",
    "    note = np.random.choice(list(trans.keys()))\n",
    "    notes = [note]\n",
    "    for i in range(1, length):\n",
    "        note = next_note(trans, note)\n",
    "        notes.append(note)\n",
    "    return notes"
   ]
  },
  {
   "cell_type": "code",
   "execution_count": 16,
   "metadata": {},
   "outputs": [],
   "source": [
    "generated = [sample_piece(transitions_norm, 200) for i in range(0,500)]"
   ]
  },
  {
   "cell_type": "code",
   "execution_count": 17,
   "metadata": {},
   "outputs": [
    {
     "data": {
      "text/plain": [
       "['ii2(2)',\n",
       " 'ii2',\n",
       " 'ii',\n",
       " '#viio6/vi',\n",
       " 'vi6',\n",
       " 'V7/V',\n",
       " 'V',\n",
       " '#viio2',\n",
       " 'I',\n",
       " 'vi',\n",
       " 'IV',\n",
       " 'V7',\n",
       " 'i',\n",
       " 'V',\n",
       " 'V',\n",
       " 'V',\n",
       " 'i',\n",
       " 'i(#4)',\n",
       " 'i(64)',\n",
       " 'i(4)',\n",
       " 'i',\n",
       " 'It6',\n",
       " 'V(64)',\n",
       " 'V65/V',\n",
       " 'V64/V',\n",
       " 'V/V',\n",
       " 'ii',\n",
       " 'V',\n",
       " '#vii64',\n",
       " '#ivo7',\n",
       " 'V',\n",
       " 'I(97)',\n",
       " 'I',\n",
       " 'V2/V',\n",
       " 'V6',\n",
       " 'V',\n",
       " 'V7',\n",
       " 'vi',\n",
       " 'V',\n",
       " 'I6',\n",
       " 'ii6',\n",
       " 'viio/V',\n",
       " 'V',\n",
       " 'ii6',\n",
       " 'V(64)',\n",
       " 'V',\n",
       " 'I',\n",
       " 'V7',\n",
       " 'V(64)',\n",
       " 'V7',\n",
       " 'I',\n",
       " 'I64',\n",
       " 'ii6',\n",
       " 'V(64)',\n",
       " 'V7',\n",
       " 'I',\n",
       " 'I64',\n",
       " 'V7',\n",
       " 'I',\n",
       " 'V',\n",
       " 'i',\n",
       " 'iv64',\n",
       " 'V65',\n",
       " 'I',\n",
       " 'I6',\n",
       " 'IV',\n",
       " 'V7',\n",
       " 'ii',\n",
       " 'V7',\n",
       " 'vi',\n",
       " 'IV6',\n",
       " 'Ger6',\n",
       " 'V7(4)',\n",
       " 'V7',\n",
       " 'i(9)',\n",
       " 'v6',\n",
       " 'iv6',\n",
       " 'V',\n",
       " 'V43',\n",
       " 'i',\n",
       " 'V43',\n",
       " 'I',\n",
       " 'viio6(2)',\n",
       " 'I6',\n",
       " 'vi',\n",
       " 'viio64/IV',\n",
       " 'IV6',\n",
       " 'V6',\n",
       " 'V',\n",
       " 'V7',\n",
       " 'I64',\n",
       " 'IV',\n",
       " 'I',\n",
       " 'ii6',\n",
       " 'V7',\n",
       " 'V(64)',\n",
       " '#viio43(b8)',\n",
       " '#viio43',\n",
       " 'i6',\n",
       " 'i',\n",
       " 'V65',\n",
       " 'vi7(+4)',\n",
       " 'V7',\n",
       " 'i',\n",
       " 'V7',\n",
       " 'i',\n",
       " 'V7/IV',\n",
       " 'IV6',\n",
       " 'bVII',\n",
       " 'bVII64',\n",
       " 'bVII',\n",
       " 'Ger6/ii',\n",
       " 'V6/ii',\n",
       " 'ii(4)',\n",
       " 'V2',\n",
       " 'I6',\n",
       " 'I(64)',\n",
       " 'V7/IV',\n",
       " 'IV64',\n",
       " 'iv64',\n",
       " 'viio7',\n",
       " 'viio43',\n",
       " 'i',\n",
       " 'i2',\n",
       " 'Ger6',\n",
       " 'V(64)',\n",
       " 'V7',\n",
       " 'IV6',\n",
       " 'I',\n",
       " 'V65(b9)/ii',\n",
       " 'ii',\n",
       " 'V7',\n",
       " 'I',\n",
       " 'vi6',\n",
       " 'V64(4)/vi',\n",
       " 'i',\n",
       " 'VIM7',\n",
       " 'V(4)/III',\n",
       " 'V/III',\n",
       " 'III',\n",
       " 'iio6(9)',\n",
       " 'iio6',\n",
       " 'V7',\n",
       " 'vi2',\n",
       " 'I',\n",
       " 'ii65/V',\n",
       " 'V/V',\n",
       " 'V',\n",
       " 'iv7',\n",
       " 'v',\n",
       " 'V6/III',\n",
       " 'vi/III',\n",
       " 'V/III',\n",
       " 'III',\n",
       " 'i',\n",
       " 'V6',\n",
       " 'iii64',\n",
       " 'V7/iii',\n",
       " 'iii6',\n",
       " 'ii6',\n",
       " 'V2',\n",
       " 'I6',\n",
       " 'IV',\n",
       " 'viio6',\n",
       " 'viio6/V',\n",
       " 'V',\n",
       " 'V',\n",
       " 'i',\n",
       " 'VII',\n",
       " 'v',\n",
       " 'v6',\n",
       " 'iv6',\n",
       " 'iv',\n",
       " 'iio6',\n",
       " 'V(64)',\n",
       " 'V(4)',\n",
       " 'i64',\n",
       " 'ii%7',\n",
       " 'i64',\n",
       " 'ii%65',\n",
       " 'V(64)',\n",
       " 'V',\n",
       " 'i',\n",
       " 'V/III',\n",
       " 'IV/III',\n",
       " 'V7/III',\n",
       " 'V7(49)/III',\n",
       " 'V7/III',\n",
       " 'ii%7',\n",
       " 'V7',\n",
       " 'I',\n",
       " 'V',\n",
       " 'V6',\n",
       " 'IV6',\n",
       " 'viio6',\n",
       " 'I(9+7)',\n",
       " 'I',\n",
       " 'I6',\n",
       " 'I64',\n",
       " 'IV']"
      ]
     },
     "execution_count": 17,
     "metadata": {},
     "output_type": "execute_result"
    }
   ],
   "source": [
    "generated[0]"
   ]
  },
  {
   "cell_type": "code",
   "execution_count": 18,
   "metadata": {
    "scrolled": true
   },
   "outputs": [
    {
     "name": "stdout",
     "output_type": "stream",
     "text": [
      "1\n",
      "2\n",
      "3\n",
      "4\n",
      "5\n",
      "6\n",
      "7\n",
      "8\n",
      "9\n",
      "10\n"
     ]
    }
   ],
   "source": [
    "mi_generated = collect_mi(generated)"
   ]
  },
  {
   "cell_type": "code",
   "execution_count": 19,
   "metadata": {},
   "outputs": [
    {
     "data": {
      "text/plain": [
       "[None, None]"
      ]
     },
     "execution_count": 19,
     "metadata": {},
     "output_type": "execute_result"
    },
    {
     "data": {
      "image/png": "[encoded data removed]",
      "text/plain": [
       "<Figure size 432x288 with 1 Axes>"
      ]
     },
     "metadata": {
      "needs_background": "light"
     },
     "output_type": "display_data"
    }
   ],
   "source": [
    "plot = sns.lineplot(data=mi_generated, x=\"dist\", y=\"mi\")\n",
    "plot.set(xscale=\"log\", yscale=\"log\")"
   ]
  },
  {
   "cell_type": "markdown",
   "metadata": {},
   "source": [
    "## Exercise 3 (optional): Modelling the Decay of Mutual Information\n",
    "\n",
    "In the last exercise we saw how the decay of information changes when reconstructing the sequences from a markov model. In this exercise we want to see if the change is caused by the model not being \"big\" enough (a higher-order model might perform better, after all), or if the model class is not correct in the first place.\n",
    "\n",
    "In a Markov model we expect an exponential decay of mutual information with increasing distance.\n",
    "The intuitive reason for that is that if we go more than one step, we multiply the transition probabilities.\n",
    "For $x$ steps, we therefore take the probability to the $x$th power.\n",
    "The same is true for a markov model of higher order, except that the curve is less steep.\n",
    "We can therefore model the decay as $MI(x) = a e^{xb} + c$, where $x$ is the distance.\n",
    "\n",
    "Another decay function is a power law, where the distance is not in the exponent but is instead taken to a fixed negative power: $MI(x) = a x^b + c$.\n",
    "This function decays asymtotically slower than the exponential and cannot be generated by a Markov model.\n",
    "\n",
    "Try to fit both functions to the mutual information you observed in the original sequences. You can use the function [`scipy.optimize.curve_fit`](https://docs.scipy.org/doc/scipy/reference/generated/scipy.optimize.curve_fit.html) together with these function definitions:"
   ]
  },
  {
   "cell_type": "code",
   "execution_count": 20,
   "metadata": {},
   "outputs": [],
   "source": [
    "exponential = lambda x, a, b, c: a * (np.e ** (-x*b)) + c\n",
    "powerlaw = lambda x, a, b, c: a * (x ** b) + c"
   ]
  },
  {
   "cell_type": "markdown",
   "metadata": {},
   "source": [
    "You will get a list of estimates for the parameters `a`, `b`, and `c` in each case.\n",
    "Use these to\n",
    "\n",
    "1. compute the estimated MI values for each distance,\n",
    "1. compute the sum of squared errors between the estimates and the actual data, and\n",
    "1. plot observed data together with the two fitted curves.\n",
    "\n",
    "Which model explains the observed data better?"
   ]
  },
  {
   "cell_type": "code",
   "execution_count": 21,
   "metadata": {},
   "outputs": [],
   "source": [
    "def fit_models(data):\n",
    "    out = pd.DataFrame(data)\n",
    "    popt_exp, pcov_exp = scipy.optimize.curve_fit(exponential, data[\"dist\"], data[\"mi\"])\n",
    "    out[\"exp\"] = exponential(data[\"dist\"], popt_exp[0], popt_exp[1], popt_exp[2])\n",
    "    loss_exp = sum((out[\"mi\"] - out[\"exp\"]) ** 2)\n",
    "\n",
    "    popt_pow, pcov_pow = scipy.optimize.curve_fit(powerlaw, data[\"dist\"], data[\"mi\"], p0=[1.0,-2.0,0.0])\n",
    "    out[\"pow\"] = powerlaw(data[\"dist\"], popt_pow[0], popt_pow[1], popt_pow[2])\n",
    "    loss_pow = sum((out[\"mi\"] - out[\"pow\"]) ** 2)\n",
    "    \n",
    "    return out, loss_exp, loss_pow"
   ]
  },
  {
   "cell_type": "code",
   "execution_count": 22,
   "metadata": {},
   "outputs": [
    {
     "name": "stdout",
     "output_type": "stream",
     "text": [
      "loss exp: 0.007374464463014735\n",
      "loss pow: 0.0046921892573682355\n"
     ]
    }
   ],
   "source": [
    "out_chords, le_chords, lp_chords = fit_models(mi_chords)\n",
    "print(\"loss exp:\", le_chords)\n",
    "print(\"loss pow:\", lp_chords)"
   ]
  },
  {
   "cell_type": "code",
   "execution_count": 23,
   "metadata": {},
   "outputs": [
    {
     "data": {
      "text/plain": [
       "[None, None]"
      ]
     },
     "execution_count": 23,
     "metadata": {},
     "output_type": "execute_result"
    },
    {
     "data": {
      "image/png": "[encoded data removed]",
      "text/plain": [
       "<Figure size 432x288 with 1 Axes>"
      ]
     },
     "metadata": {
      "needs_background": "light"
     },
     "output_type": "display_data"
    }
   ],
   "source": [
    "plot = sns.lineplot(data=out_chords[[\"mi\", \"exp\", \"pow\"]])\n",
    "plot.set(xscale=\"log\", yscale=\"log\")"
   ]
  },
  {
   "cell_type": "code",
   "execution_count": 24,
   "metadata": {
    "scrolled": true
   },
   "outputs": [
    {
     "name": "stdout",
     "output_type": "stream",
     "text": [
      "loss exp: 0.0038038228094043796\n",
      "loss pow: 8.824968183504473e-05\n"
     ]
    }
   ],
   "source": [
    "out_gen, le_gen, lp_gen = fit_models(mi_generated)\n",
    "print(\"loss exp:\", le_gen)\n",
    "print(\"loss pow:\", lp_gen)"
   ]
  },
  {
   "cell_type": "code",
   "execution_count": 25,
   "metadata": {},
   "outputs": [
    {
     "data": {
      "text/plain": [
       "[None, None]"
      ]
     },
     "execution_count": 25,
     "metadata": {},
     "output_type": "execute_result"
    },
    {
     "data": {
      "image/png": "[encoded data removed]",
      "text/plain": [
       "<Figure size 432x288 with 1 Axes>"
      ]
     },
     "metadata": {
      "needs_background": "light"
     },
     "output_type": "display_data"
    }
   ],
   "source": [
    "plot = sns.lineplot(data=out_gen[[\"mi\", \"exp\", \"pow\"]])\n",
    "plot.set(xscale=\"log\", yscale=\"log\")"
   ]
  },
  {
   "cell_type": "code",
   "execution_count": null,
   "metadata": {},
   "outputs": [],
   "source": []
  }
 ],
 "metadata": {
  "@webio": {
   "lastCommId": null,
   "lastKernelId": null
  },
  "kernelspec": {
   "display_name": "Python 3",
   "language": "python",
   "name": "python3"
  },
  "language_info": {
   "codemirror_mode": {
    "name": "ipython",
    "version": 3
   },
   "file_extension": ".py",
   "mimetype": "text/x-python",
   "name": "python",
   "nbconvert_exporter": "python",
   "pygments_lexer": "ipython3",
   "version": "3.8.2"
  }
 },
 "nbformat": 4,
 "nbformat_minor": 2
}
