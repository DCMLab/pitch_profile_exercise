{
 "cells": [
  {
   "cell_type": "code",
   "execution_count": null,
   "metadata": {},
   "outputs": [],
   "source": [
    "import pandas as pd\n",
    "import numpy as np\n",
    "import scipy\n",
    "\n",
    "import matplotlib.pyplot as plt\n",
    "import seaborn as sns\n",
    "\n",
    "from collections import Counter"
   ]
  },
  {
   "cell_type": "markdown",
   "metadata": {},
   "source": [
    "# Preparation\n",
    "\n",
    "## Load Data\n",
    "\n",
    "### Essen Folksong Collection\n",
    "\n",
    "Contains 9000+ melodies as lists of intervals and lists of pitches."
   ]
  },
  {
   "cell_type": "code",
   "execution_count": null,
   "metadata": {},
   "outputs": [],
   "source": [
    "# read data\n",
    "\n",
    "data_essen = pd.read_csv('Essen_folksong_collection.csv', index_col=0, sep='\\t')\n",
    "\n",
    "data_essen.head()"
   ]
  },
  {
   "cell_type": "code",
   "execution_count": null,
   "metadata": {},
   "outputs": [],
   "source": [
    "# split and strip intervals\n",
    "\n",
    "sequences_essen_int = [\n",
    "    [ interval.strip( '\\\"[\\',\\]' ) for interval in row.DGIs.split() ] \n",
    "    for (i, row) in data_essen.iterrows()\n",
    "]\n",
    "\n",
    "sequences_essen_int[0]"
   ]
  },
  {
   "cell_type": "code",
   "execution_count": null,
   "metadata": {},
   "outputs": [],
   "source": [
    "# split and strip pitches\n",
    "\n",
    "sequences_essen_pitch = [\n",
    "    [ pitch.strip( '\\\"[\\',\\]' ) for pitch in row.spelled_pitches.split() ] \n",
    "    for (i, row) in data_essen.iterrows()\n",
    "]\n",
    "\n",
    "sequences_essen_pitch[0]"
   ]
  },
  {
   "cell_type": "code",
   "execution_count": null,
   "metadata": {},
   "outputs": [],
   "source": [
    "# convert intervals into interval classes\n",
    "\n",
    "int_class = {\n",
    "    'A-11':6,\n",
    "     'A-2':-3,\n",
    "     'A-3':-5,\n",
    "     'A-4':-6,\n",
    "     'A-5':-8,\n",
    "     'A-8':-1,\n",
    "     'A1':1,\n",
    "     'A2':3,\n",
    "     'A3':4,\n",
    "     'A4':6,\n",
    "     'A5':8,\n",
    "     'A8':1,\n",
    "     'M-10':-4,\n",
    "     'M-13':-9,\n",
    "     'M-16':-2,\n",
    "     'M-2':-2,\n",
    "     'M-3':-4,\n",
    "     'M-6':-9,\n",
    "     'M-7':-11,\n",
    "     'M-9':-2,\n",
    "     'M10':4,\n",
    "     'M13':7,\n",
    "     'M2':2,\n",
    "     'M3':4,\n",
    "     'M6':8,\n",
    "     'M7':11,\n",
    "     'M9':2,\n",
    "     'P-11':-5,\n",
    "     'P-12':-7,\n",
    "     'P-15':0,\n",
    "     'P-4':-5,\n",
    "     'P-5':-7,\n",
    "     'P-8':0,\n",
    "     'P1':0,\n",
    "     'P11':5,\n",
    "     'P12':7,\n",
    "     'P15':0,\n",
    "     'P4':5,\n",
    "     'P5':7,\n",
    "     'P8':0,\n",
    "     'd-3':-2,\n",
    "     'd-4':-4,\n",
    "     'd-5':-6,\n",
    "     'd-7':-9,\n",
    "     'd1':-1,\n",
    "     'd3':2,\n",
    "     'd4':4,\n",
    "     'd5':6,\n",
    "     'd6':7,\n",
    "     'd7':9,\n",
    "     'm-10':-4,\n",
    "     'm-13':-9,\n",
    "     'm-2':-1,\n",
    "     'm-3':-3,\n",
    "     'm-6':-8,\n",
    "     'm-7':-10,\n",
    "     'm-9':-1,\n",
    "     'm10':-3,\n",
    "     'm13':8,\n",
    "     'm2':1,\n",
    "     'm3':3,\n",
    "     'm6':8,\n",
    "     'm7':10,\n",
    "     'm9':1,\n",
    "}\n",
    "\n",
    "def to_int_class(interval):\n",
    "    return int_class[interval]"
   ]
  },
  {
   "cell_type": "markdown",
   "metadata": {},
   "source": [
    "# Exercise: Markov Models\n",
    "\n",
    "For the following exercise use either the pitch sequences or the interval sequences.\n",
    "\n",
    "1. Compute bigrams, count their occurrences, and look at the top 20 bigrams.\n",
    "1. Plot a heatmap of all bigrams.\n",
    "1. Use the sequences to train a 1st-order markov model.\n",
    "1. Use the model to generate new sequences of length 100.\n",
    "\n",
    "## 1. Computing Bigrams\n",
    "\n",
    "Hint: use `collections.Counter`"
   ]
  },
  {
   "cell_type": "code",
   "execution_count": null,
   "metadata": {
    "scrolled": true
   },
   "outputs": [],
   "source": []
  },
  {
   "cell_type": "markdown",
   "metadata": {},
   "source": [
    "## 2. Plot the Bigrams as a Heatmap"
   ]
  },
  {
   "cell_type": "code",
   "execution_count": null,
   "metadata": {},
   "outputs": [],
   "source": []
  },
  {
   "cell_type": "markdown",
   "metadata": {},
   "source": [
    "## 3. Train a Markov Model"
   ]
  },
  {
   "cell_type": "code",
   "execution_count": null,
   "metadata": {},
   "outputs": [],
   "source": []
  },
  {
   "cell_type": "markdown",
   "metadata": {},
   "source": [
    "## 4. Generate New Sequences\n",
    "\n",
    "Hint: use `np.random.choice`"
   ]
  },
  {
   "cell_type": "code",
   "execution_count": null,
   "metadata": {},
   "outputs": [],
   "source": []
  },
  {
   "cell_type": "markdown",
   "metadata": {},
   "source": [
    "# Extra Exercise\n",
    "\n",
    "Plot the conditional bigram distribution as a heatmap. That means, normalize each row of the transition matrix."
   ]
  },
  {
   "cell_type": "code",
   "execution_count": null,
   "metadata": {},
   "outputs": [],
   "source": []
  }
 ],
 "metadata": {
  "@webio": {
   "lastCommId": null,
   "lastKernelId": null
  },
  "kernelspec": {
   "display_name": "Python 3",
   "language": "python",
   "name": "python3"
  },
  "language_info": {
   "codemirror_mode": {
    "name": "ipython",
    "version": 3
   },
   "file_extension": ".py",
   "mimetype": "text/x-python",
   "name": "python",
   "nbconvert_exporter": "python",
   "pygments_lexer": "ipython3",
   "version": "3.8.2"
  }
 },
 "nbformat": 4,
 "nbformat_minor": 2
}
